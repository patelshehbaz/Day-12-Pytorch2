{
 "cells": [
  {
   "cell_type": "code",
   "execution_count": 2,
   "metadata": {},
   "outputs": [
    {
     "name": "stdout",
     "output_type": "stream",
     "text": [
      "Collecting torch\n",
      "  Using cached torch-2.5.1-cp311-none-macosx_11_0_arm64.whl.metadata (28 kB)\n",
      "Collecting filelock (from torch)\n",
      "  Using cached filelock-3.16.1-py3-none-any.whl.metadata (2.9 kB)\n",
      "Requirement already satisfied: typing-extensions>=4.8.0 in /Users/shehbazpatel/Desktop/ComputerVision/Day-1/cv_live/lib/python3.11/site-packages (from torch) (4.12.2)\n",
      "Collecting networkx (from torch)\n",
      "  Using cached networkx-3.4.2-py3-none-any.whl.metadata (6.3 kB)\n",
      "Collecting jinja2 (from torch)\n",
      "  Using cached jinja2-3.1.5-py3-none-any.whl.metadata (2.6 kB)\n",
      "Collecting fsspec (from torch)\n",
      "  Using cached fsspec-2024.12.0-py3-none-any.whl.metadata (11 kB)\n",
      "Collecting sympy==1.13.1 (from torch)\n",
      "  Using cached sympy-1.13.1-py3-none-any.whl.metadata (12 kB)\n",
      "Collecting mpmath<1.4,>=1.1.0 (from sympy==1.13.1->torch)\n",
      "  Using cached mpmath-1.3.0-py3-none-any.whl.metadata (8.6 kB)\n",
      "Collecting MarkupSafe>=2.0 (from jinja2->torch)\n",
      "  Using cached MarkupSafe-3.0.2-cp311-cp311-macosx_11_0_arm64.whl.metadata (4.0 kB)\n",
      "Using cached torch-2.5.1-cp311-none-macosx_11_0_arm64.whl (63.9 MB)\n",
      "Using cached sympy-1.13.1-py3-none-any.whl (6.2 MB)\n",
      "Using cached filelock-3.16.1-py3-none-any.whl (16 kB)\n",
      "Using cached fsspec-2024.12.0-py3-none-any.whl (183 kB)\n",
      "Using cached jinja2-3.1.5-py3-none-any.whl (134 kB)\n",
      "Using cached networkx-3.4.2-py3-none-any.whl (1.7 MB)\n",
      "Using cached MarkupSafe-3.0.2-cp311-cp311-macosx_11_0_arm64.whl (12 kB)\n",
      "Using cached mpmath-1.3.0-py3-none-any.whl (536 kB)\n",
      "Installing collected packages: mpmath, sympy, networkx, MarkupSafe, fsspec, filelock, jinja2, torch\n",
      "Successfully installed MarkupSafe-3.0.2 filelock-3.16.1 fsspec-2024.12.0 jinja2-3.1.5 mpmath-1.3.0 networkx-3.4.2 sympy-1.13.1 torch-2.5.1\n",
      "Note: you may need to restart the kernel to use updated packages.\n"
     ]
    }
   ],
   "source": [
    "pip install torch"
   ]
  },
  {
   "cell_type": "code",
   "execution_count": 3,
   "metadata": {},
   "outputs": [],
   "source": [
    "import torch"
   ]
  },
  {
   "cell_type": "code",
   "execution_count": 4,
   "metadata": {},
   "outputs": [
    {
     "name": "stdout",
     "output_type": "stream",
     "text": [
      "tensor([[ 0.0906,  1.4104,  1.1223, -0.1454],\n",
      "        [-0.0664, -1.7532,  0.2871,  1.3100],\n",
      "        [-1.2517, -1.6887, -1.1658,  1.4871],\n",
      "        [-0.0708, -0.9553, -0.2699,  1.1183]])\n",
      "torch.Size([4, 4])\n",
      "--------------------\n",
      "tensor([ 0.0906,  1.4104,  1.1223, -0.1454, -0.0664, -1.7532,  0.2871,  1.3100,\n",
      "        -1.2517, -1.6887, -1.1658,  1.4871, -0.0708, -0.9553, -0.2699,  1.1183])\n",
      "torch.Size([16])\n",
      "--------------------\n",
      "shape '[-1, 7]' is invalid for input of size 16\n",
      "tensor([[ 0.0906,  1.4104,  1.1223, -0.1454, -0.0664, -1.7532,  0.2871,  1.3100],\n",
      "        [-1.2517, -1.6887, -1.1658,  1.4871, -0.0708, -0.9553, -0.2699,  1.1183]])\n",
      "torch.Size([2, 8])\n",
      "--------------------\n",
      "tensor([[   9.0582,  141.0438,  112.2305,  -14.5402],\n",
      "        [  -6.6374, -175.3163,   28.7143,  131.0024],\n",
      "        [-125.1709, -168.8684, -116.5838,  148.7128],\n",
      "        [  -7.0837,  -95.5338,  -26.9912,  111.8342]])\n",
      "tensor([ 0.0906,  1.4104,  1.1223, -0.1454, -0.0664, -1.7532,  0.2871,  1.3100,\n",
      "        -1.2517, -1.6887, -1.1658,  1.4871, -0.0708, -0.9553, -0.2699,  1.1183])\n",
      "tensor([[ 0.0906,  1.4104,  1.1223, -0.1454, -0.0664, -1.7532,  0.2871,  1.3100],\n",
      "        [-1.2517, -1.6887, -1.1658,  1.4871, -0.0708, -0.9553, -0.2699,  1.1183]])\n"
     ]
    }
   ],
   "source": [
    "# View\n",
    "# Returns a new tensor with the same data but of a different shape.\n",
    "# If you're also concerned about memory usage and want to ensure that the two tensors share the same data use view else reshape.\n",
    "# Also if you want contiguous memory then use view.\n",
    "\n",
    "tensor_random = torch.randn(4, 4)\n",
    "\n",
    "print(tensor_random)\n",
    "print(tensor_random.shape)\n",
    "\n",
    "print(\"-\"*20)\n",
    "\n",
    "tensor_random_view_1 = tensor_random.view(16)\n",
    "print(tensor_random_view_1)\n",
    "print(tensor_random_view_1.shape)\n",
    "\n",
    "print(\"-\"*20)\n",
    "\n",
    "try:\n",
    "  tensor_random_view_2 = tensor_random.view(-1, 7)\n",
    "  print(tensor_random_view_2)\n",
    "  print(tensor_random_view_2.shape)\n",
    "except Exception as e :\n",
    "  print(e)\n",
    "  tensor_random_view_2 = tensor_random.view(-1, 8)\n",
    "  print(tensor_random_view_2)\n",
    "  print(tensor_random_view_2.shape)\n",
    "\n",
    "print(\"-\"*20)\n",
    "\n",
    "tensor_random = tensor_random * 100\n",
    "print(tensor_random)\n",
    "print(tensor_random_view_1)\n",
    "print(tensor_random_view_2)"
   ]
  },
  {
   "cell_type": "code",
   "execution_count": 5,
   "metadata": {},
   "outputs": [
    {
     "name": "stdout",
     "output_type": "stream",
     "text": [
      "tensor([ 0.0178, -1.7871,  0.2990,  0.0175, -1.3311, -1.1565,  0.5318,  1.1776,\n",
      "        -1.0772, -0.1863, -0.3448, -0.9947,  0.2834, -0.2086,  0.1346, -0.5283])\n",
      "torch.Size([16])\n",
      "--------------------\n",
      "tensor([[ 0.0178, -1.7871,  0.2990,  0.0175],\n",
      "        [-1.3311, -1.1565,  0.5318,  1.1776],\n",
      "        [-1.0772, -0.1863, -0.3448, -0.9947],\n",
      "        [ 0.2834, -0.2086,  0.1346, -0.5283]])\n",
      "torch.Size([4, 4])\n",
      "--------------------\n",
      "tensor([ 0.0178, -1.7871,  0.2990,  0.0175, -1.3311, -1.1565,  0.5318,  1.1776,\n",
      "        -1.0772, -0.1863, -0.3448, -0.9947,  0.2834, -0.2086,  0.1346, -0.5283])\n",
      "torch.Size([16])\n"
     ]
    }
   ],
   "source": [
    "# Reshape - Preffered\n",
    "# Returns a tensor with the same data and number of elements as input, but with the specified shape.\n",
    "\n",
    "tensor_random = torch.randn(16)\n",
    "print(tensor_random)\n",
    "print(tensor_random.shape)\n",
    "\n",
    "print(\"-\"*20)\n",
    "\n",
    "tensor_random_reshape = torch.reshape(tensor_random, (4, 4))\n",
    "print(tensor_random_reshape)\n",
    "print(tensor_random_reshape.shape)\n",
    "\n",
    "print(\"-\"*20)\n",
    "\n",
    "tensor_random_flatten =  torch.reshape(tensor_random_reshape, (-1,))\n",
    "print(tensor_random_flatten)\n",
    "print(tensor_random_flatten.shape)"
   ]
  },
  {
   "cell_type": "code",
   "execution_count": 6,
   "metadata": {},
   "outputs": [
    {
     "name": "stdout",
     "output_type": "stream",
     "text": [
      "tensor([[ 1.2829, -0.7806, -0.2520],\n",
      "        [-1.5662, -1.0735, -1.0223]])\n",
      "torch.Size([2, 3])\n",
      "--------------------\n",
      "Dimension 0 or default\n",
      "tensor([[[ 0.5174, -1.6801, -1.7602],\n",
      "         [ 1.2056, -0.1794,  0.9064]],\n",
      "\n",
      "        [[ 0.5174, -1.6801, -1.7602],\n",
      "         [ 1.2056, -0.1794,  0.9064]]])\n",
      "torch.Size([2, 2, 3])\n",
      "--------------------\n",
      "Dimension 0\n",
      "tensor([[[ 0.5174, -1.6801, -1.7602],\n",
      "         [ 1.2056, -0.1794,  0.9064]],\n",
      "\n",
      "        [[ 0.5174, -1.6801, -1.7602],\n",
      "         [ 1.2056, -0.1794,  0.9064]]])\n",
      "torch.Size([2, 2, 3])\n",
      "--------------------\n",
      "Dimension 1\n",
      "tensor([[[ 0.5174, -1.6801, -1.7602],\n",
      "         [ 0.5174, -1.6801, -1.7602]],\n",
      "\n",
      "        [[ 1.2056, -0.1794,  0.9064],\n",
      "         [ 1.2056, -0.1794,  0.9064]]])\n",
      "torch.Size([2, 2, 3])\n",
      "--------------------\n",
      "Dimension 2\n",
      "tensor([[[ 0.5174,  0.5174],\n",
      "         [-1.6801, -1.6801],\n",
      "         [-1.7602, -1.7602]],\n",
      "\n",
      "        [[ 1.2056,  1.2056],\n",
      "         [-0.1794, -0.1794],\n",
      "         [ 0.9064,  0.9064]]])\n",
      "torch.Size([2, 3, 2])\n",
      "--------------------\n",
      "Dimension -1\n",
      "tensor([[[ 0.5174,  0.5174],\n",
      "         [-1.6801, -1.6801],\n",
      "         [-1.7602, -1.7602]],\n",
      "\n",
      "        [[ 1.2056,  1.2056],\n",
      "         [-0.1794, -0.1794],\n",
      "         [ 0.9064,  0.9064]]])\n",
      "torch.Size([2, 3, 2])\n"
     ]
    },
    {
     "data": {
      "text/plain": [
       "'\\n[\\n  [ [0.5174, 0.5174], [-1.6801, -1.6801], [-1.7602, -1.7602] ],   ⬅ Columns stacked element-wise (dim=2)\\n  [ [1.2056, 1.2056], [-0.1794, -0.1794], [ 0.9064,  0.9064] ]\\n]\\n\\nThe new dimension is added after the columns, so each column is paired element-wise from both tensors\\n'"
      ]
     },
     "execution_count": 6,
     "metadata": {},
     "output_type": "execute_result"
    }
   ],
   "source": [
    "# Stack\n",
    "\n",
    "random_stack = torch.randn(2, 3)\n",
    "print(random_stack)\n",
    "print(random_stack.shape)\n",
    "\n",
    "# OR\n",
    "\n",
    "random_stack = torch.tensor([[ 0.5174, -1.6801, -1.7602],\n",
    "                             [ 1.2056, -0.1794,  0.9064]])\n",
    "\n",
    "'''\n",
    "Shape : 2,3\n",
    "Rows (dim=0): 2\n",
    "Columns (dim=1): 3\n",
    "'''\n",
    "\n",
    "print(\"-\"*20)\n",
    "\n",
    "# By Default dimension is 0\n",
    "print(\"Dimension 0 or default\")\n",
    "random_stack_dim_default = torch.stack((random_stack, random_stack))\n",
    "print(random_stack_dim_default)\n",
    "print(random_stack_dim_default.shape)\n",
    "\n",
    "print(\"-\"*20)\n",
    "\n",
    "print(\"Dimension 0\")\n",
    "random_stack_dim_0 = torch.stack((random_stack, random_stack), dim=0)\n",
    "print(random_stack_dim_0)\n",
    "print(random_stack_dim_0.shape)\n",
    "\n",
    "'''\n",
    "[        ⬅ New dimension (dim=0, outer)\n",
    "  [ [0.5174, -1.6801, -1.7602],      ⬅ Original tensor 1\n",
    "    [1.2056, -0.1794,  0.9064] ],\n",
    "\n",
    "  [ [0.5174, -1.6801, -1.7602],      ⬅ Original tensor 2\n",
    "    [1.2056, -0.1794,  0.9064] ]\n",
    "]\n",
    "\n",
    "The new dimension is added before the rows\n",
    "'''\n",
    "\n",
    "print(\"-\"*20)\n",
    "\n",
    "print(\"Dimension 1\")\n",
    "random_stack_dim_1 = torch.stack((random_stack, random_stack), dim=1)\n",
    "print(random_stack_dim_1)\n",
    "print(random_stack_dim_1.shape)\n",
    "\n",
    "'''\n",
    "[\n",
    "  [ [0.5174, -1.6801, -1.7602], [0.5174, -1.6801, -1.7602] ],  ⬅ Rows are stacked (dim=1)\n",
    "  [ [1.2056, -0.1794,  0.9064], [1.2056, -0.1794,  0.9064] ]\n",
    "]\n",
    "\n",
    "The new dimension is added between the rows and columns\n",
    "'''\n",
    "\n",
    "print(\"-\"*20)\n",
    "\n",
    "print(\"Dimension 2\") # Results in Tensor Transpose\n",
    "random_stack_dim_2 = torch.stack((random_stack, random_stack), dim=2)\n",
    "print(random_stack_dim_2)\n",
    "print(random_stack_dim_2.shape)\n",
    "\n",
    "'''\n",
    "Shape : 2,3\n",
    "Rows (dim=0): 2\n",
    "Columns (dim=1): 3\n",
    "\n",
    "So we are going to insert new dimesnion after column\n",
    "'''\n",
    "\n",
    "\n",
    "\n",
    "print(\"-\"*20)\n",
    "\n",
    "print(\"Dimension -1\") # Results in Tensor Transpose\n",
    "random_stack_dim_neg_1 = torch.stack((random_stack, random_stack), dim=-1)\n",
    "print(random_stack_dim_neg_1)\n",
    "print(random_stack_dim_neg_1.shape)\n",
    "\n",
    "'''\n",
    "[\n",
    "  [ [0.5174, 0.5174], [-1.6801, -1.6801], [-1.7602, -1.7602] ],   ⬅ Columns stacked element-wise (dim=2)\n",
    "  [ [1.2056, 1.2056], [-0.1794, -0.1794], [ 0.9064,  0.9064] ]\n",
    "]\n",
    "\n",
    "The new dimension is added after the columns, so each column is paired element-wise from both tensors\n",
    "'''\n",
    "\n"
   ]
  },
  {
   "cell_type": "markdown",
   "metadata": {
    "id": "w3cXYT_oK436"
   },
   "source": [
    "# Building a Simple Linear Regression Model"
   ]
  },
  {
   "cell_type": "code",
   "execution_count": 8,
   "metadata": {
    "id": "jXMd8PPhFWxv"
   },
   "outputs": [],
   "source": [
    "import torch.nn as nn"
   ]
  },
  {
   "cell_type": "code",
   "execution_count": 9,
   "metadata": {
    "id": "QjwZKCwxIbCL"
   },
   "outputs": [],
   "source": [
    "# Input data (features)\n",
    "X = torch.tensor([[1.0], [2.0], [3.0], [4.0]])\n",
    "\n",
    "# Output data (targets)\n",
    "y = torch.tensor([[2.0], [4.0], [6.0], [8.0]])\n"
   ]
  },
  {
   "cell_type": "code",
   "execution_count": 10,
   "metadata": {
    "id": "Qa83_aHSLQ1S"
   },
   "outputs": [],
   "source": [
    "class LinearRegressionModel(nn.Module):\n",
    "    def __init__(self):\n",
    "        super(LinearRegressionModel, self).__init__()\n",
    "        # Define the model's parameters\n",
    "        self.linear = nn.Linear(in_features=1, out_features=1)\n",
    "\n",
    "    def forward(self, x):\n",
    "        # Define the forward pass\n",
    "        out = self.linear(x)\n",
    "        return out\n"
   ]
  },
  {
   "cell_type": "markdown",
   "metadata": {
    "id": "gskfXvfSLZxL"
   },
   "source": [
    "* class LinearRegressionModel(nn.Module): We create a class that inherits from nn.Module, which is essential for any PyTorch model.\n",
    "* def __init__(self): The constructor where we define the layers and parameters of our model.\n",
    "* super().__init__(): Initializes the base class nn.Module.\n",
    "* self.linear = nn.Linear(in_features=1, out_features=1): A linear layer that applies a linear transformation\n",
    "𝑦 = 𝑥 ⋅ weight + bias.\n",
    "* in_features=1: The number of input features (since each input x is a single value).\n",
    "* out_features=1: The number of output features (predicting a single value).\n",
    "* def forward(self, x): The forward pass method where computation happens.\n",
    "* out = self.linear(x): Applies the linear transformation to the input.\n",
    "* return out: Returns the output."
   ]
  },
  {
   "cell_type": "markdown",
   "metadata": {
    "id": "3d7duSNIJbRk"
   },
   "source": [
    "# Key PyTorch Components\n",
    "## torch.nn\n",
    "Contains all the building blocks for neural networks in PyTorch, such as layers, activation functions, and loss functions. It allows you to construct computational graphs, which are sequences of computations executed in a specific order.\n",
    "\n",
    "## torch.nn.Parameter\n",
    "A subclass of torch.Tensor that is automatically registered as a parameter when assigned as an attribute to an nn.Module. Parameters are tensors that are considered model parameters, and if requires_grad=True (the default), gradients are automatically computed for them during backpropagation.\n",
    "\n",
    "## torch.nn.Module\n",
    "The base class for all neural network modules in PyTorch. It provides a way to encapsulate parameters, helpers for moving them to GPUs, exporting, loading, and more. All custom models should subclass nn.Module and implement the forward() method.\n",
    "\n",
    "## torch.optim\n",
    "Contains optimization algorithms (optimizers) used to update the parameters of a model based on the gradients computed during backpropagation. Optimizers adjust the weights to minimize the loss function.\n",
    "\n",
    "## def forward()\n",
    "All subclasses of nn.Module must implement the forward() method, which defines how the model processes input data and produces output. This is where the actual computation happens."
   ]
  },
  {
   "cell_type": "code",
   "execution_count": 11,
   "metadata": {
    "id": "x9KHtYxPLT-I"
   },
   "outputs": [],
   "source": [
    "model = LinearRegressionModel()"
   ]
  },
  {
   "cell_type": "markdown",
   "metadata": {
    "id": "PS06byeBMc-x"
   },
   "source": [
    "* model: An instance of our linear regression model.\n",
    "* The model's parameters (weights and biases) are automatically registered as nn.Parameter objects because they're defined within an nn.Module."
   ]
  },
  {
   "cell_type": "code",
   "execution_count": 12,
   "metadata": {
    "id": "ZEk_pdIWMN1Q"
   },
   "outputs": [],
   "source": [
    "# Loss function\n",
    "criterion = nn.MSELoss()\n",
    "\n",
    "# Optimizer\n",
    "optimizer = torch.optim.SGD(model.parameters(), lr=0.01)\n"
   ]
  },
  {
   "cell_type": "markdown",
   "metadata": {
    "id": "KpWeRoYfMT3o"
   },
   "source": [
    "* criterion = nn.MSELoss(): The Mean Squared Error loss function, which measures the average squared difference between the predicted and actual values.\n",
    "* optimizer = torch.optim.SGD(model.parameters(), lr=0.01):\n",
    "* torch.optim.SGD: The Stochastic Gradient Descent optimizer.\n",
    "* model.parameters(): Retrieves the model's parameters that need to be updated.\n",
    "* lr=0.01: The learning rate, controlling how much to adjust the parameters during each update.\n"
   ]
  },
  {
   "cell_type": "code",
   "execution_count": 13,
   "metadata": {
    "colab": {
     "base_uri": "https://localhost:8080/"
    },
    "executionInfo": {
     "elapsed": 405,
     "status": "ok",
     "timestamp": 1726714499681,
     "user": {
      "displayName": "nimoy",
      "userId": "12145814232676261569"
     },
     "user_tz": -330
    },
    "id": "IrpOhem6Mgs3",
    "outputId": "8b431b07-bac5-48ca-afdd-0eda2ea6ccc4"
   },
   "outputs": [
    {
     "name": "stdout",
     "output_type": "stream",
     "text": [
      "Epoch [2/4], Loss: 25.5047\n",
      "Epoch [4/4], Loss: 12.3872\n"
     ]
    }
   ],
   "source": [
    "num_epochs = 4\n",
    "\n",
    "for epoch in range(num_epochs):\n",
    "    # Forward pass: Compute predicted y\n",
    "    y_pred = model(X)\n",
    "\n",
    "    # Compute loss\n",
    "    loss = criterion(y_pred, y)\n",
    "\n",
    "    # Zero gradients\n",
    "    optimizer.zero_grad()\n",
    "\n",
    "    # Backward pass: Compute gradients\n",
    "    loss.backward()\n",
    "\n",
    "    # Update parameters\n",
    "    optimizer.step()\n",
    "\n",
    "    # Print progress\n",
    "    if (epoch+1) % 2 == 0:\n",
    "        print(f'Epoch [{epoch + 1}/{num_epochs}], Loss: {loss.item():.4f}')\n"
   ]
  },
  {
   "cell_type": "code",
   "execution_count": 14,
   "metadata": {},
   "outputs": [
    {
     "name": "stdout",
     "output_type": "stream",
     "text": [
      "Model weights tensor([[0.6676]])\n",
      "Model bias tensor([0.7934])\n"
     ]
    }
   ],
   "source": [
    "print(f\"Model weights {model.linear.weight.data}\")\n",
    "print(f\"Model bias {model.linear.bias.data}\")"
   ]
  },
  {
   "cell_type": "markdown",
   "metadata": {
    "id": "EB6OLiDAM0ox"
   },
   "source": [
    "* Training Loop: Iterates over the dataset multiple times (epochs) to train the model.\n",
    "* y_pred = model(X): Performs the forward pass by calling the model on the input data. This invokes the forward() method.\n",
    "* loss = criterion(y_pred, y): Computes the loss between the predicted values and actual values.\n",
    "* optimizer.zero_grad(): Clears old gradients before computing new ones.\n",
    "* loss.backward(): Performs backpropagation to compute gradients of the loss w.r.t. model parameters.\n",
    "* optimizer.step(): Updates the model parameters using the computed gradients.\n",
    "* Progress Printing: Every 2 epochs, prints the current loss to monitor training progress."
   ]
  },
  {
   "cell_type": "code",
   "execution_count": 15,
   "metadata": {
    "colab": {
     "base_uri": "https://localhost:8080/"
    },
    "executionInfo": {
     "elapsed": 377,
     "status": "ok",
     "timestamp": 1726714968115,
     "user": {
      "displayName": "nimoy",
      "userId": "12145814232676261569"
     },
     "user_tz": -330
    },
    "id": "vtsKqHLeLFFw",
    "outputId": "edaf674c-3757-4bdd-eeee-2b0ca2c6d1c3"
   },
   "outputs": [
    {
     "name": "stdout",
     "output_type": "stream",
     "text": [
      "2\n",
      "torch.Size([4, 1])\n",
      "torch.Size([4])\n",
      "====================\n",
      "Input values:  tensor([1., 2., 3., 4.])\n",
      "Input values:  [1. 2. 3. 4.]\n",
      "====================\n",
      "Predicted values: [1.4609911 2.1286278 2.7962642 3.463901 ]\n",
      "====================\n",
      "Actual values: [2. 4. 6. 8.]\n"
     ]
    }
   ],
   "source": [
    "# Test the model\n",
    "with torch.no_grad():  # Disables gradient calculation\n",
    "    predicted = model(X)\n",
    "    print(X.ndim)\n",
    "    print(X.shape)\n",
    "    print(X.squeeze().shape)\n",
    "    print('='*20)\n",
    "    print('Input values: ', X[:,0])\n",
    "    print('Input values: ', X.squeeze().numpy())\n",
    "    print('='*20)\n",
    "    print('Predicted values:', predicted.squeeze().numpy())\n",
    "    print('='*20)\n",
    "    print('Actual values:', y.squeeze().numpy())\n",
    "\n",
    "# torch.squeeze removes dimensions of size 1 from a tensor"
   ]
  },
  {
   "cell_type": "markdown",
   "metadata": {},
   "source": [
    "Understanding Squeeze"
   ]
  },
  {
   "cell_type": "code",
   "execution_count": null,
   "metadata": {
    "id": "86nh53E7NP4i"
   },
   "outputs": [],
   "source": [
    "a = torch.tensor([[[3]]])\n",
    "print(a)\n",
    "a_new = a.squeeze()\n",
    "print(a_new)"
   ]
  }
 ],
 "metadata": {
  "colab": {
   "authorship_tag": "ABX9TyPLfg4nlC8GQ3PoRG9Otk06",
   "provenance": []
  },
  "kernelspec": {
   "display_name": "cv_live",
   "language": "python",
   "name": "python3"
  },
  "language_info": {
   "codemirror_mode": {
    "name": "ipython",
    "version": 3
   },
   "file_extension": ".py",
   "mimetype": "text/x-python",
   "name": "python",
   "nbconvert_exporter": "python",
   "pygments_lexer": "ipython3",
   "version": "3.11.10"
  }
 },
 "nbformat": 4,
 "nbformat_minor": 0
}
